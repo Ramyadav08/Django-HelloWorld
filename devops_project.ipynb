{
  "nbformat": 4,
  "nbformat_minor": 0,
  "metadata": {
    "colab": {
      "provenance": [],
      "authorship_tag": "ABX9TyMVx/DuSmALF8vbzVZ8Kd0x",
      "include_colab_link": true
    },
    "kernelspec": {
      "name": "python3",
      "display_name": "Python 3"
    },
    "language_info": {
      "name": "python"
    }
  },
  "cells": [
    {
      "cell_type": "markdown",
      "metadata": {
        "id": "view-in-github",
        "colab_type": "text"
      },
      "source": [
        "<a href=\"https://colab.research.google.com/github/Ramyadav08/django-helloworld/blob/main/devops_project.ipynb\" target=\"_parent\"><img src=\"https://colab.research.google.com/assets/colab-badge.svg\" alt=\"Open In Colab\"/></a>"
      ]
    },
    {
      "cell_type": "code",
      "execution_count": 5,
      "metadata": {
        "colab": {
          "base_uri": "https://localhost:8080/"
        },
        "id": "76LgAe48g6Nq",
        "outputId": "9ec0300c-37c7-4240-c228-ff355f9c1ad4"
      },
      "outputs": [
        {
          "output_type": "stream",
          "name": "stdout",
          "text": [
            "Requirement already satisfied: mysql-connector-python in /usr/local/lib/python3.10/dist-packages (8.1.0)\n",
            "Collecting protobuf<=4.21.12,>=4.21.1 (from mysql-connector-python)\n",
            "  Using cached protobuf-4.21.12-cp37-abi3-manylinux2014_x86_64.whl (409 kB)\n",
            "Installing collected packages: protobuf\n",
            "  Attempting uninstall: protobuf\n",
            "    Found existing installation: protobuf 3.20.3\n",
            "    Uninstalling protobuf-3.20.3:\n",
            "      Successfully uninstalled protobuf-3.20.3\n",
            "\u001b[31mERROR: pip's dependency resolver does not currently take into account all the packages that are installed. This behaviour is the source of the following dependency conflicts.\n",
            "tensorflow-metadata 1.14.0 requires protobuf<4.21,>=3.20.3, but you have protobuf 4.21.12 which is incompatible.\u001b[0m\u001b[31m\n",
            "\u001b[0mSuccessfully installed protobuf-4.21.12\n"
          ]
        }
      ],
      "source": [
        "!pip install mysql-connector-python"
      ]
    },
    {
      "cell_type": "code",
      "source": [
        "import mysql.connector\n",
        "\n",
        "# Establish a connection to the database\n",
        "def create_connection():\n",
        "    connection = mysql.connector.connect(\n",
        "        host=\"mydatabase.cp1yjhq6uo8u.us-east-1.rds.amazonaws.com\",\n",
        "        user=\"admin\",\n",
        "        password=\"admin123\",\n",
        "        database=\"mydatabase\"\n",
        "    )\n",
        "    return connection"
      ],
      "metadata": {
        "id": "_lH5koi_hscD"
      },
      "execution_count": 22,
      "outputs": []
    },
    {
      "cell_type": "code",
      "source": [
        "connection = create_connection()\n",
        "connection"
      ],
      "metadata": {
        "colab": {
          "base_uri": "https://localhost:8080/"
        },
        "id": "3EYrJWEwh4iL",
        "outputId": "db8cb2ab-113f-4353-8ceb-b34b9ffa9d84"
      },
      "execution_count": 23,
      "outputs": [
        {
          "output_type": "execute_result",
          "data": {
            "text/plain": [
              "<mysql.connector.connection_cext.CMySQLConnection at 0x79dd943b6f80>"
            ]
          },
          "metadata": {},
          "execution_count": 23
        }
      ]
    },
    {
      "cell_type": "code",
      "source": [
        "def create_table(connection):\n",
        "    cursor = connection.cursor()\n",
        "    cursor.execute(\"CREATE TABLE IF NOT EXISTS sample (id INT AUTO_INCREMENT PRIMARY KEY, name VARCHAR(255), age INT)\")"
      ],
      "metadata": {
        "id": "hOHlhS5Hivys"
      },
      "execution_count": 24,
      "outputs": []
    },
    {
      "cell_type": "code",
      "source": [
        "create_table(connection)"
      ],
      "metadata": {
        "id": "9efpfTWajDM7"
      },
      "execution_count": 11,
      "outputs": []
    },
    {
      "cell_type": "code",
      "source": [
        "# Insert a record\n",
        "def insert_record(connection, name, age):\n",
        "    cursor = connection.cursor()\n",
        "    query = \"INSERT INTO sample (name, age) VALUES (%s, %s)\"\n",
        "    cursor.execute(query, (name, age))\n",
        "    connection.commit()"
      ],
      "metadata": {
        "id": "oVYOsBvwjP2f"
      },
      "execution_count": 12,
      "outputs": []
    },
    {
      "cell_type": "code",
      "source": [
        "insert_record(connection, \"Ram\", 21)\n",
        "insert_record(connection, \"Jane Smith\", 28)"
      ],
      "metadata": {
        "id": "TJ7dfSJkjXfq"
      },
      "execution_count": 25,
      "outputs": []
    },
    {
      "cell_type": "code",
      "source": [
        "# Select records\n",
        "def select_records(connection):\n",
        "    cursor = connection.cursor()\n",
        "    cursor.execute(\"SELECT * FROM sample\")\n",
        "    rows = cursor.fetchall()\n",
        "    for row in rows:\n",
        "        print(row)"
      ],
      "metadata": {
        "id": "Yb1-ZxUojcF5"
      },
      "execution_count": 14,
      "outputs": []
    },
    {
      "cell_type": "code",
      "source": [
        "select_records(connection)"
      ],
      "metadata": {
        "colab": {
          "base_uri": "https://localhost:8080/"
        },
        "id": "PrPWjooxjgBA",
        "outputId": "955af9f9-ddaf-4862-9ed8-5771244337d7"
      },
      "execution_count": 26,
      "outputs": [
        {
          "output_type": "stream",
          "name": "stdout",
          "text": [
            "(2, 'Jane Smith', 28)\n",
            "(3, 'John1 Doe', 30)\n",
            "(4, 'Jane1 Smith', 28)\n",
            "(5, 'Alice Brown', 24)\n",
            "(6, 'Ram', 21)\n",
            "(7, 'Jane Smith', 28)\n"
          ]
        }
      ]
    },
    {
      "cell_type": "code",
      "source": [
        "# Update a record\n",
        "def update_record(connection, name, age, id):\n",
        "    cursor = connection.cursor()\n",
        "    query = \"UPDATE sample SET name = %s, age = %s WHERE id = %s\"\n",
        "    cursor.execute(query, (name, age, id))\n",
        "    connection.commit()"
      ],
      "metadata": {
        "id": "kj_n1ckmjk8t"
      },
      "execution_count": 16,
      "outputs": []
    },
    {
      "cell_type": "code",
      "source": [
        "update_record(connection, \"John Doe\", 31, 1)\n",
        "select_records(connection)"
      ],
      "metadata": {
        "colab": {
          "base_uri": "https://localhost:8080/"
        },
        "id": "9ZymORR2joi9",
        "outputId": "6095fe3f-5e0b-4b3d-c921-6d426ced7a37"
      },
      "execution_count": 17,
      "outputs": [
        {
          "output_type": "stream",
          "name": "stdout",
          "text": [
            "(1, 'John Doe', 31)\n",
            "(2, 'Jane Smith', 28)\n"
          ]
        }
      ]
    },
    {
      "cell_type": "code",
      "source": [
        "# Delete a record\n",
        "def delete_record(connection, id):\n",
        "    cursor = connection.cursor()\n",
        "    query = \"DELETE FROM sample WHERE id = %s\"\n",
        "    cursor.execute(query, (id,))\n",
        "    connection.commit()\n",
        "delete_record(connection, 1)"
      ],
      "metadata": {
        "id": "8WYXv4TpjtrY"
      },
      "execution_count": 18,
      "outputs": []
    },
    {
      "cell_type": "code",
      "source": [
        "select_records(connection)"
      ],
      "metadata": {
        "colab": {
          "base_uri": "https://localhost:8080/"
        },
        "id": "iVK_HfMHjxdQ",
        "outputId": "094dc58a-232e-42b7-d6e8-805e6747e201"
      },
      "execution_count": 19,
      "outputs": [
        {
          "output_type": "stream",
          "name": "stdout",
          "text": [
            "(2, 'Jane Smith', 28)\n"
          ]
        }
      ]
    },
    {
      "cell_type": "code",
      "source": [
        "# Insert multiple records\n",
        "def insert_multiple_records(connection, records):\n",
        "    cursor = connection.cursor()\n",
        "    query = \"INSERT INTO sample (name, age) VALUES (%s, %s)\"\n",
        "    cursor.executemany(query, records)\n",
        "    connection.commit()\n",
        "\n",
        "# Main function to perform all operations\n",
        "\n",
        "\n",
        "records = [(\"John1 Doe\", 30), (\"Jane1 Smith\", 28), (\"Alice Brown\", 24)]\n",
        "insert_multiple_records(connection, records)"
      ],
      "metadata": {
        "id": "8otikC_dj2OL"
      },
      "execution_count": 20,
      "outputs": []
    },
    {
      "cell_type": "code",
      "source": [
        "select_records(connection)"
      ],
      "metadata": {
        "colab": {
          "base_uri": "https://localhost:8080/"
        },
        "id": "Dnyzh2Qoj5-T",
        "outputId": "94725649-acd7-4812-9bdb-03821bfc4857"
      },
      "execution_count": 21,
      "outputs": [
        {
          "output_type": "stream",
          "name": "stdout",
          "text": [
            "(2, 'Jane Smith', 28)\n",
            "(3, 'John1 Doe', 30)\n",
            "(4, 'Jane1 Smith', 28)\n",
            "(5, 'Alice Brown', 24)\n"
          ]
        }
      ]
    }
  ]
}